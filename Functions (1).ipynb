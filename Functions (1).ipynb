{
  "nbformat": 4,
  "nbformat_minor": 0,
  "metadata": {
    "colab": {
      "provenance": []
    },
    "kernelspec": {
      "name": "python3",
      "display_name": "Python 3"
    },
    "language_info": {
      "name": "python"
    }
  },
  "cells": [
    {
      "cell_type": "markdown",
      "source": [
        "# Functions\n"
      ],
      "metadata": {
        "id": "TFNReGLeEmYo"
      }
    },
    {
      "cell_type": "markdown",
      "source": [
        "#PRACTICAL QUESTIONS"
      ],
      "metadata": {
        "id": "1RiAwQODfXR3"
      }
    },
    {
      "cell_type": "markdown",
      "source": [
        "Write a code to create a string with your name and print it?"
      ],
      "metadata": {
        "id": "q7KwxVvPqAim"
      }
    },
    {
      "cell_type": "code",
      "source": [
        "name = \"swati panthi\"\n",
        "print(name)"
      ],
      "metadata": {
        "colab": {
          "base_uri": "https://localhost:8080/"
        },
        "id": "PpQDjELKWKTc",
        "outputId": "0851b9e9-c3cb-4199-a610-985d18e2927f"
      },
      "execution_count": null,
      "outputs": [
        {
          "output_type": "stream",
          "name": "stdout",
          "text": [
            "swati panthi\n"
          ]
        }
      ]
    },
    {
      "cell_type": "markdown",
      "source": [
        "Write a code to find the length of the string \"Hello World\"?"
      ],
      "metadata": {
        "id": "xGOrAxZcLuQi"
      }
    },
    {
      "cell_type": "code",
      "source": [
        "text = \"Hello World\"\n",
        "length = len(text)\n",
        "print(\"The length of the string is:\", length)\n"
      ],
      "metadata": {
        "colab": {
          "base_uri": "https://localhost:8080/"
        },
        "id": "3n77RWx0XTl8",
        "outputId": "9a03cfa1-3eba-42bf-a630-9f36a8897a9f"
      },
      "execution_count": null,
      "outputs": [
        {
          "output_type": "stream",
          "name": "stdout",
          "text": [
            "The length of the string is: 11\n"
          ]
        }
      ]
    },
    {
      "cell_type": "markdown",
      "source": [
        "Write a code to slice the first 3 characters from the string \"Python Programming\"?"
      ],
      "metadata": {
        "id": "ZgqZh83gL3MK"
      }
    },
    {
      "cell_type": "code",
      "source": [
        "text = \"Python Programming\"\n",
        "sliced_text = text[:3]\n",
        "print(sliced_text)\n"
      ],
      "metadata": {
        "colab": {
          "base_uri": "https://localhost:8080/"
        },
        "id": "myiUWHc3MOdb",
        "outputId": "2d3034fd-8512-4a59-881f-2100d9ca5729"
      },
      "execution_count": null,
      "outputs": [
        {
          "output_type": "stream",
          "name": "stdout",
          "text": [
            "Pyt\n"
          ]
        }
      ]
    },
    {
      "cell_type": "markdown",
      "source": [
        "Write a code to convert the string \"hello\" to uppercase?"
      ],
      "metadata": {
        "id": "ciCKNmWlMU-z"
      }
    },
    {
      "cell_type": "code",
      "source": [
        "text = \"hello\"\n",
        "uppercase_text = text.upper()\n",
        "print(uppercase_text)\n"
      ],
      "metadata": {
        "colab": {
          "base_uri": "https://localhost:8080/"
        },
        "id": "YEvpJ3ggW0EA",
        "outputId": "3c53b149-9181-4051-ce78-970e51e4e7d0"
      },
      "execution_count": null,
      "outputs": [
        {
          "output_type": "stream",
          "name": "stdout",
          "text": [
            "HELLO\n"
          ]
        }
      ]
    },
    {
      "cell_type": "markdown",
      "source": [
        "Write a code to replace the word \"apple\" with \"orange\" in the string \"I like apple\"?"
      ],
      "metadata": {
        "id": "wNY0KFC9W3J9"
      }
    },
    {
      "cell_type": "code",
      "source": [
        "text = \"I like apple\"\n",
        "new_text = text.replace(\"apple\", \"orange\")\n",
        "print(new_text)\n"
      ],
      "metadata": {
        "id": "-Tri9_NcXmCi",
        "colab": {
          "base_uri": "https://localhost:8080/"
        },
        "outputId": "ed026619-b657-4022-ca58-fa416acb0f9d"
      },
      "execution_count": null,
      "outputs": [
        {
          "output_type": "stream",
          "name": "stdout",
          "text": [
            "I like orange\n"
          ]
        }
      ]
    },
    {
      "cell_type": "markdown",
      "source": [
        "Write a code to create a list with numbers 1 to 5 and print it?"
      ],
      "metadata": {
        "id": "TML3CwNXXm11"
      }
    },
    {
      "cell_type": "code",
      "source": [
        "numbers = [1, 2, 3, 4, 5]\n",
        "print(numbers)\n"
      ],
      "metadata": {
        "colab": {
          "base_uri": "https://localhost:8080/"
        },
        "id": "O9QrUwNnXsVJ",
        "outputId": "f9f29282-4ae1-4e5e-e4ec-e5ed651aff60"
      },
      "execution_count": null,
      "outputs": [
        {
          "output_type": "stream",
          "name": "stdout",
          "text": [
            "[1, 2, 3, 4, 5]\n"
          ]
        }
      ]
    },
    {
      "cell_type": "markdown",
      "source": [
        "Write a code to append the number 10 to the list [1, 2, 3, 4]?"
      ],
      "metadata": {
        "id": "bdNFJSwnX_B8"
      }
    },
    {
      "cell_type": "code",
      "source": [
        "numbers = [1, 2, 3, 4]\n",
        "numbers.append(10)\n",
        "print(numbers)\n"
      ],
      "metadata": {
        "colab": {
          "base_uri": "https://localhost:8080/"
        },
        "id": "AKEIR82BYCLV",
        "outputId": "3d89c7e4-9dd1-483b-c066-885142e15eed"
      },
      "execution_count": null,
      "outputs": [
        {
          "output_type": "stream",
          "name": "stdout",
          "text": [
            "[1, 2, 3, 4, 10]\n"
          ]
        }
      ]
    },
    {
      "cell_type": "markdown",
      "source": [
        "Write a code to remove the number 3 from the list [1, 2, 3, 4, 5]?"
      ],
      "metadata": {
        "id": "YSlDrT4xYNX3"
      }
    },
    {
      "cell_type": "code",
      "source": [
        "numbers = [1, 2, 3, 4, 5]\n",
        "numbers.remove(3)\n",
        "print(numbers)\n"
      ],
      "metadata": {
        "colab": {
          "base_uri": "https://localhost:8080/"
        },
        "id": "OOTza9XwXXqe",
        "outputId": "cb2dbfeb-e890-4c77-a9ef-33ba6aa4187f"
      },
      "execution_count": null,
      "outputs": [
        {
          "output_type": "stream",
          "name": "stdout",
          "text": [
            "[1, 2, 4, 5]\n"
          ]
        }
      ]
    },
    {
      "cell_type": "markdown",
      "source": [
        "Write a code to access the second element in the list ['a', 'b', 'c', 'd']?"
      ],
      "metadata": {
        "id": "pVeHn-9pYbS8"
      }
    },
    {
      "cell_type": "code",
      "source": [
        "letters = ['a', 'b', 'c', 'd']\n",
        "second_element = letters[1]\n",
        "print(second_element)\n"
      ],
      "metadata": {
        "colab": {
          "base_uri": "https://localhost:8080/"
        },
        "id": "nHEIAEoCYZ_p",
        "outputId": "727fcaf7-b220-49fa-9ab1-e122d0af497b"
      },
      "execution_count": null,
      "outputs": [
        {
          "output_type": "stream",
          "name": "stdout",
          "text": [
            "b\n"
          ]
        }
      ]
    },
    {
      "cell_type": "markdown",
      "source": [
        "Write a code to reverse the list [10, 20, 30, 40, 50]."
      ],
      "metadata": {
        "id": "xaofTEP_Ywu1"
      }
    },
    {
      "cell_type": "code",
      "source": [
        "numbers = [10, 20, 30, 40, 50]\n",
        "numbers.reverse()\n",
        "print(numbers)\n"
      ],
      "metadata": {
        "colab": {
          "base_uri": "https://localhost:8080/"
        },
        "id": "A8CoQabVYyl1",
        "outputId": "d5f70049-fe9d-4b26-8d3b-5facc594a313"
      },
      "execution_count": null,
      "outputs": [
        {
          "output_type": "stream",
          "name": "stdout",
          "text": [
            "[50, 40, 30, 20, 10]\n"
          ]
        }
      ]
    },
    {
      "cell_type": "markdown",
      "source": [
        " Write a code to create a tuple with the elements 100, 200, 300 and print it."
      ],
      "metadata": {
        "id": "UaDVu9qUY66W"
      }
    },
    {
      "cell_type": "code",
      "source": [
        "numbers = (100, 200, 300)\n",
        "print(numbers)\n"
      ],
      "metadata": {
        "colab": {
          "base_uri": "https://localhost:8080/"
        },
        "id": "LoyjW3SsZDyH",
        "outputId": "7bde9b07-c0bc-4885-b8be-40f34edcd43a"
      },
      "execution_count": null,
      "outputs": [
        {
          "output_type": "stream",
          "name": "stdout",
          "text": [
            "(100, 200, 300)\n"
          ]
        }
      ]
    },
    {
      "cell_type": "markdown",
      "source": [
        " Write a code to access the second-to-last element of the tuple ('red', 'green', 'blue', 'yellow')."
      ],
      "metadata": {
        "id": "sPC2cUPzZGOr"
      }
    },
    {
      "cell_type": "code",
      "source": [
        "colors = ('red', 'green', 'blue', 'yellow')\n",
        "second_last = colors[-2]\n",
        "print(second_last)\n"
      ],
      "metadata": {
        "colab": {
          "base_uri": "https://localhost:8080/"
        },
        "id": "bqcZuY5PZPR4",
        "outputId": "654e4f85-bd23-4f8b-b1dc-9ee2420d5e7f"
      },
      "execution_count": null,
      "outputs": [
        {
          "output_type": "stream",
          "name": "stdout",
          "text": [
            "blue\n"
          ]
        }
      ]
    },
    {
      "cell_type": "markdown",
      "source": [
        " Write a code to find the minimum number in the tuple (10, 20, 5, 15)."
      ],
      "metadata": {
        "id": "XTpd2qDqZRzg"
      }
    },
    {
      "cell_type": "code",
      "source": [
        "numbers = (10, 20, 5, 15)\n",
        "minimum_number = min(numbers)\n",
        "print(minimum_number)\n"
      ],
      "metadata": {
        "colab": {
          "base_uri": "https://localhost:8080/"
        },
        "id": "wmtA1XXWZZaR",
        "outputId": "a906cbbc-1188-4488-91bb-29afb83b480b"
      },
      "execution_count": null,
      "outputs": [
        {
          "output_type": "stream",
          "name": "stdout",
          "text": [
            "5\n"
          ]
        }
      ]
    },
    {
      "cell_type": "markdown",
      "source": [
        "Write a code to find the index of the element \"cat\" in the tuple ('dog', 'cat', 'rabbit')."
      ],
      "metadata": {
        "id": "oHuIKS_lZbjW"
      }
    },
    {
      "cell_type": "code",
      "source": [
        "animals = ('dog', 'cat', 'rabbit')\n",
        "index_of_cat = animals.index('cat')\n",
        "print(index_of_cat)\n"
      ],
      "metadata": {
        "colab": {
          "base_uri": "https://localhost:8080/"
        },
        "id": "2Ui-eww2Z3vM",
        "outputId": "38c8e6e9-4e9b-4e33-a93a-c2da49d20677"
      },
      "execution_count": null,
      "outputs": [
        {
          "output_type": "stream",
          "name": "stdout",
          "text": [
            "1\n"
          ]
        }
      ]
    },
    {
      "cell_type": "markdown",
      "source": [
        " Write a code to create a tuple containing three different fruits and check if \"kiwi\" is in it."
      ],
      "metadata": {
        "id": "XyTphBS8aAfW"
      }
    },
    {
      "cell_type": "code",
      "source": [
        "fruits = ('apple', 'banana', 'mango')\n",
        "if 'kiwi' in fruits:\n",
        "    print(\"Kiwi is in the tuple\")\n",
        "else:\n",
        "    print(\"Kiwi is not in the tuple\")\n"
      ],
      "metadata": {
        "colab": {
          "base_uri": "https://localhost:8080/"
        },
        "id": "Fc7YEMkraDzn",
        "outputId": "a1736171-a59c-4a19-a2d7-85191629aec3"
      },
      "execution_count": null,
      "outputs": [
        {
          "output_type": "stream",
          "name": "stdout",
          "text": [
            "Kiwi is not in the tuple\n"
          ]
        }
      ]
    },
    {
      "cell_type": "markdown",
      "source": [
        "Write a code to create a set with the elements 'a', 'b', 'c' and print it."
      ],
      "metadata": {
        "id": "DcmTgTUqaTUw"
      }
    },
    {
      "cell_type": "code",
      "source": [
        "letters = {'a', 'b', 'c'}\n",
        "print(letters)\n"
      ],
      "metadata": {
        "colab": {
          "base_uri": "https://localhost:8080/"
        },
        "id": "9txKIu-aaZd6",
        "outputId": "38794fdd-ed8d-431d-b8cc-326805ac1221"
      },
      "execution_count": null,
      "outputs": [
        {
          "output_type": "stream",
          "name": "stdout",
          "text": [
            "{'b', 'a', 'c'}\n"
          ]
        }
      ]
    },
    {
      "cell_type": "markdown",
      "source": [
        " Write a code to clear all elements from the set {1, 2, 3, 4, 5}."
      ],
      "metadata": {
        "id": "9yE6e0s_bDED"
      }
    },
    {
      "cell_type": "code",
      "source": [
        "numbers = {1, 2, 3, 4, 5}\n",
        "numbers.clear()\n",
        "print(numbers)\n"
      ],
      "metadata": {
        "colab": {
          "base_uri": "https://localhost:8080/"
        },
        "id": "HKgABi5ebHe2",
        "outputId": "730f203e-43bb-4f38-f5b0-eab3597dc7ab"
      },
      "execution_count": null,
      "outputs": [
        {
          "output_type": "stream",
          "name": "stdout",
          "text": [
            "set()\n"
          ]
        }
      ]
    },
    {
      "cell_type": "markdown",
      "source": [
        " Write a code to remove the element 4 from the set {1, 2, 3, 4}.\n",
        "\n"
      ],
      "metadata": {
        "id": "N4ie2IeAbQeG"
      }
    },
    {
      "cell_type": "code",
      "source": [
        "numbers = {1, 2, 3, 4}\n",
        "numbers.remove(4)\n",
        "print(numbers)\n"
      ],
      "metadata": {
        "colab": {
          "base_uri": "https://localhost:8080/"
        },
        "id": "3BaguSeZbZyp",
        "outputId": "f1e69314-40b8-4745-c442-611cfe84640b"
      },
      "execution_count": null,
      "outputs": [
        {
          "output_type": "stream",
          "name": "stdout",
          "text": [
            "{1, 2, 3}\n"
          ]
        }
      ]
    },
    {
      "cell_type": "markdown",
      "source": [
        " Write a code to find the union of two sets {1, 2, 3} and {3, 4, 5}."
      ],
      "metadata": {
        "id": "miVFxlkebbqm"
      }
    },
    {
      "cell_type": "code",
      "source": [
        "set1 = {1, 2, 3}\n",
        "set2 = {3, 4, 5}\n",
        "\n",
        "union_set = set1.union(set2)\n",
        "print(union_set)\n"
      ],
      "metadata": {
        "colab": {
          "base_uri": "https://localhost:8080/"
        },
        "id": "Yu5eR_fRbjes",
        "outputId": "385d48ba-f2ab-426c-a35b-3d4d046f1350"
      },
      "execution_count": null,
      "outputs": [
        {
          "output_type": "stream",
          "name": "stdout",
          "text": [
            "{1, 2, 3, 4, 5}\n"
          ]
        }
      ]
    },
    {
      "cell_type": "markdown",
      "source": [
        "Write a code to find the intersection of two sets {1, 2, 3} and {2, 3, 4}."
      ],
      "metadata": {
        "id": "hkWGMXmBboqs"
      }
    },
    {
      "cell_type": "code",
      "source": [
        "set1 = {1, 2, 3}\n",
        "set2 = {2, 3, 4}\n",
        "\n",
        "intersection_set = set1.intersection(set2)\n",
        "print(intersection_set)\n"
      ],
      "metadata": {
        "colab": {
          "base_uri": "https://localhost:8080/"
        },
        "id": "eEA0ea8Jbt-M",
        "outputId": "19d3045b-1ccd-4e7d-9312-17b45407ff5f"
      },
      "execution_count": null,
      "outputs": [
        {
          "output_type": "stream",
          "name": "stdout",
          "text": [
            "{2, 3}\n"
          ]
        }
      ]
    },
    {
      "cell_type": "markdown",
      "source": [
        "Write a code to create a dictionary with the keys \"name\", \"age\", and \"city\", and print it?"
      ],
      "metadata": {
        "id": "cKr8NyVmbwda"
      }
    },
    {
      "cell_type": "code",
      "source": [
        "person = {\"name\": \"Alice\",\"age\": 25,\"city\": \"New York\"}\n",
        "print(person)\n"
      ],
      "metadata": {
        "colab": {
          "base_uri": "https://localhost:8080/"
        },
        "id": "37y9NNFmb5Tj",
        "outputId": "13e28a24-eabc-41ae-cad1-4e12db0f0d3f"
      },
      "execution_count": null,
      "outputs": [
        {
          "output_type": "stream",
          "name": "stdout",
          "text": [
            "{'name': 'Alice', 'age': 25, 'city': 'New York'}\n"
          ]
        }
      ]
    },
    {
      "cell_type": "markdown",
      "source": [
        "Write a code to add a new key-value pair \"country\": \"USA\" to the dictionary {'name': 'John', 'age': 25}."
      ],
      "metadata": {
        "id": "6XJjcFYxcLjA"
      }
    },
    {
      "cell_type": "code",
      "source": [
        "person = {'name': 'John', 'age': 25}\n",
        "person['country'] = 'USA'\n",
        "print(person)\n"
      ],
      "metadata": {
        "colab": {
          "base_uri": "https://localhost:8080/"
        },
        "id": "I-j8nkrkcRQS",
        "outputId": "8f30926e-9d58-4697-9241-d7eb789836f7"
      },
      "execution_count": null,
      "outputs": [
        {
          "output_type": "stream",
          "name": "stdout",
          "text": [
            "{'name': 'John', 'age': 25, 'country': 'USA'}\n"
          ]
        }
      ]
    },
    {
      "cell_type": "markdown",
      "source": [
        "Write a code to access the value associated with the key \"name\" in the dictionary {'name': 'Alice', 'age': 30}."
      ],
      "metadata": {
        "id": "Fp7af7LacYfs"
      }
    },
    {
      "cell_type": "code",
      "source": [
        "person = {'name': 'Alice', 'age': 30}\n",
        "name_value = person['name']\n",
        "print(name_value)\n"
      ],
      "metadata": {
        "colab": {
          "base_uri": "https://localhost:8080/"
        },
        "id": "Bntrr_SqcjWF",
        "outputId": "778e7009-6bdf-482c-ae04-78f418f11355"
      },
      "execution_count": null,
      "outputs": [
        {
          "output_type": "stream",
          "name": "stdout",
          "text": [
            "Alice\n"
          ]
        }
      ]
    },
    {
      "cell_type": "markdown",
      "source": [
        " Write a code to remove the key \"age\" from the dictionary {'name': 'Bob', 'age': 22, 'city': 'New York'}."
      ],
      "metadata": {
        "id": "do_fXzjUclbG"
      }
    },
    {
      "cell_type": "code",
      "source": [
        "person = {'name': 'Bob', 'age': 22, 'city': 'New York'}\n",
        "person.pop('age')\n",
        "print(person)\n"
      ],
      "metadata": {
        "colab": {
          "base_uri": "https://localhost:8080/"
        },
        "id": "U48kJ5hmcuo5",
        "outputId": "5eb16fda-449f-450b-d989-26bb8ee81cb0"
      },
      "execution_count": null,
      "outputs": [
        {
          "output_type": "stream",
          "name": "stdout",
          "text": [
            "{'name': 'Bob', 'city': 'New York'}\n"
          ]
        }
      ]
    },
    {
      "cell_type": "markdown",
      "source": [
        " Write a code to check if the key \"city\" exists in the dictionary {'name': 'Alice', 'city': 'Paris'}."
      ],
      "metadata": {
        "id": "lLJAWsvOcyTT"
      }
    },
    {
      "cell_type": "code",
      "source": [
        "person = {'name': 'Alice', 'city': 'Paris'}\n",
        "if 'city' in person:\n",
        "    print(\"Key 'city' exists in the dictionary\")\n",
        "else:\n",
        "    print(\"Key 'city' does not exist in the dictionary\")\n"
      ],
      "metadata": {
        "colab": {
          "base_uri": "https://localhost:8080/"
        },
        "id": "smAqSZJqc2ry",
        "outputId": "ff42a246-1995-4143-f233-c6b91cccae1e"
      },
      "execution_count": null,
      "outputs": [
        {
          "output_type": "stream",
          "name": "stdout",
          "text": [
            "Key 'city' exists in the dictionary\n"
          ]
        }
      ]
    },
    {
      "cell_type": "markdown",
      "source": [
        " Write a code to create a list, a tuple, and a dictionary, and print them all."
      ],
      "metadata": {
        "id": "x2EOD1VsdAc_"
      }
    },
    {
      "cell_type": "code",
      "source": [
        "my_list = [1, 2, 3, 4]\n",
        "my_tuple = (5, 6, 7, 8)\n",
        "my_dict = {'name': 'Alice', 'age': 25}\n",
        "print(\"List:\", my_list)\n",
        "print(\"Tuple:\", my_tuple)\n",
        "print(\"Dictionary:\", my_dict)\n"
      ],
      "metadata": {
        "colab": {
          "base_uri": "https://localhost:8080/"
        },
        "id": "ozhrSxkydMtZ",
        "outputId": "6aa064f0-4290-4fd4-e87c-6a4770904c26"
      },
      "execution_count": null,
      "outputs": [
        {
          "output_type": "stream",
          "name": "stdout",
          "text": [
            "List: [1, 2, 3, 4]\n",
            "Tuple: (5, 6, 7, 8)\n",
            "Dictionary: {'name': 'Alice', 'age': 25}\n"
          ]
        }
      ]
    },
    {
      "cell_type": "markdown",
      "source": [
        " Write a code to create a list of 5 random numbers between 1 and 100, sort it in ascending order, and print the\n",
        "result.(replaced)"
      ],
      "metadata": {
        "id": "5XugBfNadZ6A"
      }
    },
    {
      "cell_type": "code",
      "source": [
        "import random\n",
        "random_numbers = [random.randint(1, 100) for _ in range(5)]\n",
        "random_numbers.sort()\n",
        "print(random_numbers)\n"
      ],
      "metadata": {
        "colab": {
          "base_uri": "https://localhost:8080/"
        },
        "id": "FPHek94udmWp",
        "outputId": "5d68ed30-7cd2-4cad-ccb0-70ec771b2cac"
      },
      "execution_count": null,
      "outputs": [
        {
          "output_type": "stream",
          "name": "stdout",
          "text": [
            "[6, 12, 31, 48, 67]\n"
          ]
        }
      ]
    },
    {
      "cell_type": "markdown",
      "source": [
        "Write a code to create a list with strings and print the element at the third index"
      ],
      "metadata": {
        "id": "yUC6x2t4d38d"
      }
    },
    {
      "cell_type": "code",
      "source": [
        "fruits = [\"apple\", \"banana\", \"cherry\", \"date\", \"fig\"]\n",
        "third_index_element = fruits[3]\n",
        "print(third_index_element)\n"
      ],
      "metadata": {
        "colab": {
          "base_uri": "https://localhost:8080/"
        },
        "id": "pkjAoPkueFCu",
        "outputId": "3dae62b5-61cb-45b2-9c51-ab2058c9f0aa"
      },
      "execution_count": null,
      "outputs": [
        {
          "output_type": "stream",
          "name": "stdout",
          "text": [
            "date\n"
          ]
        }
      ]
    },
    {
      "cell_type": "markdown",
      "source": [
        " Write a code to combine two dictionaries into one and print the result."
      ],
      "metadata": {
        "id": "KA3hpWYNeQue"
      }
    },
    {
      "cell_type": "code",
      "source": [
        "dict1 = {'name': 'Alice', 'age': 25}\n",
        "dict2 = {'city': 'Paris', 'country': 'France'}\n",
        "combined_dict = {**dict1, **dict2}\n",
        "print(combined_dict)\n"
      ],
      "metadata": {
        "colab": {
          "base_uri": "https://localhost:8080/"
        },
        "id": "PqGTGk2ieiKH",
        "outputId": "3e7e2489-c06f-4762-b4bb-3a8d98337b4b"
      },
      "execution_count": null,
      "outputs": [
        {
          "output_type": "stream",
          "name": "stdout",
          "text": [
            "{'name': 'Alice', 'age': 25, 'city': 'Paris', 'country': 'France'}\n"
          ]
        }
      ]
    },
    {
      "cell_type": "markdown",
      "source": [
        "Write a code to convert a list of strings into a set."
      ],
      "metadata": {
        "id": "B0ZNYbZqeqmR"
      }
    },
    {
      "cell_type": "code",
      "source": [
        "fruits_list = [\"apple\", \"banana\", \"cherry\", \"apple\", \"banana\"]\n",
        "fruits_set = set(fruits_list)\n",
        "print(fruits_set)\n"
      ],
      "metadata": {
        "colab": {
          "base_uri": "https://localhost:8080/"
        },
        "id": "6dDvugULevhD",
        "outputId": "4f20625c-9d3f-41ae-fbe0-af2b65626646"
      },
      "execution_count": null,
      "outputs": [
        {
          "output_type": "stream",
          "name": "stdout",
          "text": [
            "{'apple', 'cherry', 'banana'}\n"
          ]
        }
      ]
    },
    {
      "cell_type": "markdown",
      "source": [
        "1. What are data structures, and why are they important?\n",
        "  -  Data Structures are methods used to store and arrange data so that it can be used easily and quickly. They help handle large amounts of information efficiently for faster access, updates, and storage.\n",
        "\n",
        "     Why Data Structures Are Important:\n",
        "\n",
        "      . Easy Data Handling:\n",
        "         They help organize and manage large sets of data easily.\n",
        "\n",
        "      . Better Speed and Performance:\n",
        "         Using the right data structure makes programs run faster and use less memory.\n",
        "\n",
        "      . Support for Algorithms:\n",
        "         Many algorithms, like searching and sorting, work best with suitable data structures.\n",
        "\n",
        "      . Easier Problem Solving:\n",
        "         Choosing the right data structure makes it simpler to solve difficult problems.\n",
        "\n",
        "2. Explain the difference between mutable and immutable data types with   examples?\n",
        " - Mutable Data Types\n",
        "\n",
        "   Mutable means you can change the data after creating it.\n",
        "   You can add, remove, or update items anytime.\n",
        "\n",
        "   Examples:\n",
        "\n",
        "   List\n",
        "   Dictionary\n",
        "   Set\n",
        "\n",
        "   Immutable Data Types\n",
        "\n",
        "  Immutable means you cannot change the data once it is created.\n",
        "  If you try to make changes, Python will create a new object instead of changing the old one.\n",
        "\n",
        "  Examples:\n",
        "  String\n",
        "  Tuple\n",
        "  Integer\n",
        "\n",
        "3. What are the main differences between lists and tuples in Python?\n",
        "  \n",
        "  - In Python,lists and tuples are both used to store multiple items in a       single variable. However, there are some key differences between them.\n",
        "\n",
        "  Alist is a mutable data structure, which means its contents can be changed after it is created. You can add, remove, or modify elements in a list using different methods. Lists are written using square brackets `[ ]`. For example, you can write `my_list = [1, 2, 3]` and later add a new item using `my_list.append(4)`. Because lists can be changed, they are often used when you need to store data that might update or grow over time.\n",
        "\n",
        "  A tuple, on the other hand, is immutable, meaning its contents cannot be changed once created. You cannot add, remove, or modify items in a tuple. Tuples are written using parentheses `( )`. For instance, `my_tuple = (1, 2, 3)` creates a tuple that will always stay the same. If you try to change it, Python will show an error.\n",
        "\n",
        "  Another difference is that tuples are generally faster than lists because they are fixed in size and do not need extra memory for changes. Tuples are often used to store constant data that should not be modified, while lists are used when the data may change during the program’s execution.\n",
        "\n",
        "  In short, use a list when you want a changeable collection, and use a tuple when you need a fixed, unchangeable collection of items.\n",
        "  \n"
      ],
      "metadata": {
        "id": "dQPBG9V3QzgI"
      }
    },
    {
      "cell_type": "markdown",
      "source": [
        "4. Describe how dictionaries store data?\n",
        "  "
      ],
      "metadata": {
        "id": "VKgNKwytf-Dt"
      }
    },
    {
      "cell_type": "code",
      "source": [
        "'''\n",
        "Dictionaries in Python store data in key–value pairs using something called a hash table.\n",
        "\n",
        "How it works:\n",
        "1. Key–Value Pairs\n",
        "   A dictionary keeps data in pairs like this:\n",
        "   {\"name\": \"Swati\", \"age\": 25, \"city\": \"Delhi\"}\n",
        "\n",
        "2. Hashing\n",
        "   When you make a dictionary, Python gives each key a special number called a hash value.\n",
        "   This helps Python quickly find where the value is stored in memory.\n",
        "\n",
        "3. Fast Access\n",
        "   Because of hashing, Python can get or change a value very quickly, without checking every item in the dictionary.\n",
        "   That’s why using a key to find a value is very fast.\n",
        "\n",
        "4. Unique Keys\n",
        "   Every key in a dictionary must be unique and unchangeable (like strings, numbers, or tuples).\n",
        "   Values can be of any type — even lists or other dictionaries.\n",
        "'''\n",
        "   #FOR EXAMPLE:\n",
        "student = {\"name\": \"Swati\", \"age\": 20, \"grade\": \"A\"}\n",
        "\n",
        "print(student[\"name\"])\n",
        "\n",
        "\n",
        "\n"
      ],
      "metadata": {
        "colab": {
          "base_uri": "https://localhost:8080/"
        },
        "id": "V8rtRceUn_2u",
        "outputId": "2ebe3d8b-20a7-44ca-c63c-c62eb55313e8"
      },
      "execution_count": null,
      "outputs": [
        {
          "output_type": "stream",
          "name": "stdout",
          "text": [
            "Swati\n"
          ]
        }
      ]
    },
    {
      "cell_type": "code",
      "source": [
        "'''\n",
        "5. Why might you use a set instead of a list in Python?\n",
        "\n",
        "   -In Python, both sets and lists are used to store collections of data, but they work differently. You should use a set instead of a list when you need unique elements, fast lookups, and efficient mathematical operations.\n",
        "\n",
        "    1. No Duplicate Elements\n",
        "       A set automatically removes duplicate values, ensuring all elements are unique.\n",
        "\n",
        "      EXAMPLE\n",
        "      numbers = [1, 2, 2, 3, 3]\n",
        "      unique_numbers = set(numbers)\n",
        "      print(unique_numbers)\n",
        "      OUTPUT {1, 2, 3}\n",
        "\n",
        "   2. Built-in Set Operations\n",
        "      Sets make it easy to perform mathematical operations like union, intersection, and difference. These operations are simple and efficient compared to using lists.\n",
        "\n",
        "      Example:\n",
        "      a = {1, 2, 3}\n",
        "      b = {3, 4, 5}\n",
        "      print(a & b)  # Intersection → {3}\n",
        "      print(a | b)  # Union → {1, 2, 3, 4, 5}\n",
        "\n",
        "    4. Unordered Data\n",
        "       A set is an unordered collection, meaning it does not remember the order of elements. If order doesn’t matter, sets are a great choice.\n",
        "\n",
        "'''\n",
        "\n",
        "'''\n",
        "\n",
        "6. What is a string in Python, and how is it different from a list?\n",
        "\n",
        "   -A string in Python is a collection of characters like letters, numbers, or symbols, written inside quotes.\n",
        "    You can use single quotes (' '), double quotes (\" \"), or triple quotes (''' ''' or \"\"\" \"\"\").\n",
        "\n",
        "    Example:\n",
        "    name = \"Swati\"\n",
        "    greeting = 'Hello'\n",
        "    sentence = \"\"\"This is a string.\"\"\"\n",
        "\n",
        "    Main Features of Strings:\n",
        "    A string is immutable, which means once you create it, you can’t change it.\n",
        "\n",
        "    You can still access, slice, or loop through the characters in it.\n",
        "\n",
        "    Example:\n",
        "    word = \"Python\"\n",
        "    print(word[0])    # Output: P\n",
        "    print(word[1:4])  # Output: yth\n",
        "'''\n",
        "\n",
        "'''\n",
        "7. How do tuples ensure data integrity in Python?\n",
        "   -Tuples help keep data **safe and unchanged** in Python because they are immutable, meaning once created, their values cannot be changed.\n",
        "    Here’s why this is useful:\n",
        "\n",
        "    1.No Accidental Changes\n",
        "      After you create a tuple, you can’t modify, add, or remove any items.\n",
        "      This prevents your data from being changed by mistake.\n",
        "      Example:\n",
        "      my_tuple = (10, 20, 30)\n",
        "      my_tuple[0] = 40  #Error – tuples cannot be changed\n",
        "\n",
        "    2.Good for Fixed Data\n",
        "      Tuples are perfect for storing data that should never change, like coordinates, dates, or settings.\n",
        "\n",
        "    3.Safe to Use as Dictionary Keys\n",
        "      Since tuples can’t change, they can be safely used as keys in dictionaries or **elements in sets, unlike lists.\n",
        "      Example:\n",
        "      coordinates = (10, 20)\n",
        "      locations = {coordinates: \"Home\"}  #Works because tuple is immutable\n",
        "\n",
        "    4.Stable and Reliable\n",
        "      Because tuples stay the same, your program becomes more predictable, secure, and less likely to have bugs caused by unwanted changes.\n",
        "'''\n",
        "\n",
        "'''\n",
        "\n",
        "8.What is a hash table, and how does it relate to dictionaries in Python?\n",
        "  - What Is a Hash Table?\n",
        "    A hash table is a data structure that stores data in key–value pairs, making it very fast to find, add, or remove information.\n",
        "    Think of it like a smart locker system — every item (value) is stored in a locker with a unique label (key), so you can find it instantly without checking every locker.\n",
        "    #How a Hash Table Works:\n",
        "    Each key is passed through a hash function, which turns it into a special number called a hash value.\n",
        "    This number tells Python where to keep the value in memory.\n",
        "    When you look for that value again, Python uses the same key, gets the hash, and goes straight to the stored value — no searching needed.\n",
        "    #How It’s Used in Python Dictionaries:\n",
        "    Python dictionaries are built using hash tables.\n",
        "    Each item in a dictionary is stored as a key–value pair.\n",
        "    The hash value of the key decides where the value is saved in memory.\n",
        "\n",
        "    '''\n",
        "\n",
        "    '''\n",
        "\n",
        "    9.Can lists contain different data types in Python?\n",
        "      -Python lists can hold different types of data in the same list.\n",
        "\n",
        "       They are very flexible, so you can store numbers, text, decimals, booleans, or even other lists together.\n",
        "\n",
        "       Example:\n",
        "       my_list = [25, \"Swati\", 3.14, True, [1, 2, 3]]\n",
        "       print(my_list)\n",
        "       Here the list contains an integer, string, float, boolean, and even another list.\n",
        "\n",
        "   '''\n",
        "\n",
        "   '''\n",
        "\n",
        "      10.Explain why strings are immutable in Python?\n",
        "\n",
        "        - In Python, strings are immutable, meaning once a string is created, it cannot be changed. If you try to modify it, Python creates a new string instead.\n",
        "\n",
        "            Why strings are immutable:\n",
        "\n",
        "                 --Saves memory by reusing string values\n",
        "\n",
        "                 --Improves security (prevents accidental change of important data)\n",
        "\n",
        "                --Makes strings reliable as dictionary keys (because they don't change)\n",
        "\n",
        "                --Ensures safe use in multi-threaded programs\n",
        "\n",
        "     '''\n",
        "\n",
        "\n",
        "     '''\n",
        "\n",
        "       11.What advantages do dictionaries offer over lists for certain tasks?\n",
        "\n",
        "          -Dictionaries are better than lists when you need fast access to data using names (keys) instead of index numbers.\n",
        "          They store information as `key: value` pairs, making them ideal for structured data, while lists are mainly used for ordered items.\n",
        "\n",
        "\n",
        "\n",
        "       12.Describe a scenario where using a tuple would be preferable over a list?\n",
        "\n",
        "         - A tuple is preferable over a list when you need to store **data that should not change**.\n",
        "\n",
        "            Scenario\n",
        "\n",
        "                 Suppose you are storing the location coordinates of a place in a program, like latitude and longitude:\n",
        "                    location = (28.6139, 77.2090)  # Coordinates of New Delhi\n",
        "                    Coordinates are fixed and should not be modified accidentally.\n",
        "                    Using a tuple ensures the data stays safe and unchanged.\n",
        "\n",
        "                  In simple words\n",
        "\n",
        "                     Use a tuple when the data is constant and must not be changed, like:\n",
        "\n",
        "                        -Coordinates\n",
        "                        -Days of the week\n",
        "                        -Configuration settings\n",
        "                        -Database column names\n",
        "\n",
        "                     Tuples help protect the data from accidental modification.\n",
        "\n",
        "\n",
        "\n",
        "         13.How do sets handle duplicate values in Python?\n",
        "\n",
        "           -In Python,sets automatically remove duplicate values\n",
        "\n",
        "             Explanation\n",
        "\n",
        "                When you add elements to a set, only unique items are stored.\n",
        "                If a duplicate value is added, Python ignores it.\n",
        "\n",
        "                 Example\n",
        "\n",
        "                    numbers = {1, 2, 2, 3, 4, 4}\n",
        "                    print(numbers)\n",
        "\n",
        "                  Output:{1, 2, 3, 4}\n",
        "\n",
        "                Sets in Python do not allow duplicates — they keep only unique values.\n",
        "\n",
        "\n",
        "            14. How does the “in” keyword work differently for lists and dictionaries?\n",
        "\n",
        "             - The 'in' keyword checks for membership, but it works differently for lists and dictionaries.\n",
        "\n",
        "                Lists\n",
        "\n",
        "                 For a list, 'in' checks if a value exists in the list.\n",
        "                 fruits = [\"apple\", \"banana\", \"mango\"]\n",
        "                 print(\"apple\" in fruits)  # True\n",
        "\n",
        "                    It looks through all items to find the value.\n",
        "\n",
        "\n",
        "                Dictionaries\n",
        "\n",
        "                 For a dictionary, 'in' checks if a key exists in the dictionary (not the value).\n",
        "\n",
        "                     student = {\"name\": \"Swati\", \"age\": 20}\n",
        "                     print(\"name\" in student)  -True\n",
        "                     print(\"Swati\" in student) -False (because it's a value, not a key)\n",
        "\n",
        "\n",
        "              15.Can you modify the elements of a tuple? Explain why or why not?\n",
        "\n",
        "                 - No, you cannot modify the elements of a tuple in Python.\n",
        "\n",
        "                    Reason\n",
        "\n",
        "                     Tuples are immutable, meaning once they are created, their elements cannot be changed, added, or removed.\n",
        "                     This is because tuples are designed to store constant and fixed data, ensuring the values remain unchanged.\n",
        "\n",
        "                    Example\n",
        "\n",
        "                   t = (10, 20, 30)\n",
        "                  t[1] = 50 (-)Error: Tuples do not support item assignment\n",
        "\n",
        "\n",
        "\n",
        "               16.What is a nested dictionary, and give an example of its use case?\n",
        "\n",
        "                   - A nested dictionary in Python is a dictionary that contains another dictionary as one of its values.\n",
        "                     A nested dictionary is a dictionary that contains another dictionary inside it.\n",
        "                     It is used to store complex or structured data, like information grouped by categories or objects.\n",
        "\n",
        "              17.Describe the time complexity of accessing elements in a dictionary?\n",
        "\n",
        "                 - Accessing elements in a dictionary in Python has a time complexity of O(1) on average.\n",
        "                   Dictionaries use a hash table, which allows data to be accessed directly using keys.\n",
        "                  So, looking up a value by its key usually takes constant time, regardless of the dictionary's size.\n",
        "                   In rare cases (due to hash collisions), the time complexity can degrade to O(n), but this is uncommon.\n",
        "\n",
        "\n",
        "             18. In what situations are lists preferred over dictionaries?\n",
        "\n",
        "              - Lists are preferred over dictionaries when:\n",
        "\n",
        "                  -Order matters — you need to keep items in a specific sequence\n",
        "                   -Index-based access is needed (access by position, like `list[0]`)\n",
        "                   -You are storing simple collections of items (names, numbers, etc.)\n",
        "                    -Duplicates are allowed\n",
        "                    -You don't need labels (keys) for each item — only values\n",
        "\n",
        "               Example;\n",
        "\n",
        "               -Storing a list of student names\n",
        "                -Keeping a sequence of numbers\n",
        "                 -Managing items in a queue or stack\n",
        "                  -Iterating through items in\n",
        "\n",
        "\n",
        "\n",
        "               19.Why are dictionaries considered unordered, and how does that affect data retrieval?\n",
        "\n",
        "                 - Dictionaries are considered unordered because they store data based on hashing, not in a fixed positional order like lists.\n",
        "                  Although modern Python (3.7+) remembers insertion order, the dictionary's internal structure still does not rely on position.\n",
        "                   it relies on keys and hash values.\n",
        "\n",
        "                   Why unordered?\n",
        "\n",
        "                    Items are placed based on their hash value, not by index.\n",
        "                    Their main purpose is fast key-based lookup, not maintaining sequence.\n",
        "\n",
        "                   Effect on data retrieval\n",
        "\n",
        "                         You cannot access items by index (like dict[0])\n",
        "\n",
        "                         You must use the key to retrieve values (like dict[\"name\"])\n",
        "\n",
        "                         Order should not be relied upon for logic, even though insertion order is preserved.\n",
        "\n",
        "\n",
        "                20. Explain the difference between a list and a dictionary in terms of data retrieval?\n",
        "\n",
        "                   - The main difference between a list and a dictionary in terms of data retrieval is how you access the data.\n",
        "\n",
        "                     Lists\n",
        "                       Data is retrieved using an index (position number)\n",
        "                        Example: my_list[0]\n",
        "                         Best when order matters and you need sequential access\n",
        "\n",
        "                      Dictionaries\n",
        "                          Data is retrieved using a key (name/label)\n",
        "                           Example: my_dict[\"name\"]\n",
        "                             Best when you want fast lookup by specific identifiers\n",
        "\n",
        "\n",
        "\n",
        "\n",
        "\n",
        "\n",
        "\n",
        "\n",
        "\n",
        "\n"
      ],
      "metadata": {
        "id": "Y9NhSawLpMWh"
      },
      "execution_count": null,
      "outputs": []
    },
    {
      "cell_type": "code",
      "source": [],
      "metadata": {
        "id": "9Zj6pOvvqLbo"
      },
      "execution_count": null,
      "outputs": []
    }
  ]
}